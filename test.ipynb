{
 "cells": [
  {
   "cell_type": "code",
   "execution_count": 11,
   "metadata": {},
   "outputs": [
    {
     "name": "stdout",
     "output_type": "stream",
     "text": [
      "div term  tensor([1.0000e+00, 1.0000e-01, 1.0000e-02, 1.0000e-03])\n",
      "sinusoid_table's shape is  torch.Size([15, 8])\n",
      "tensor([[ 0.0000e+00,  1.0000e+00,  0.0000e+00,  1.0000e+00,  0.0000e+00,\n",
      "          1.0000e+00,  0.0000e+00,  1.0000e+00],\n",
      "        [ 8.4147e-01,  5.4030e-01,  9.9833e-02,  9.9500e-01,  9.9998e-03,\n",
      "          9.9995e-01,  1.0000e-03,  1.0000e+00],\n",
      "        [ 9.0930e-01, -4.1615e-01,  1.9867e-01,  9.8007e-01,  1.9999e-02,\n",
      "          9.9980e-01,  2.0000e-03,  1.0000e+00],\n",
      "        [ 1.4112e-01, -9.8999e-01,  2.9552e-01,  9.5534e-01,  2.9995e-02,\n",
      "          9.9955e-01,  3.0000e-03,  1.0000e+00],\n",
      "        [-7.5680e-01, -6.5364e-01,  3.8942e-01,  9.2106e-01,  3.9989e-02,\n",
      "          9.9920e-01,  4.0000e-03,  9.9999e-01],\n",
      "        [-9.5892e-01,  2.8366e-01,  4.7943e-01,  8.7758e-01,  4.9979e-02,\n",
      "          9.9875e-01,  5.0000e-03,  9.9999e-01],\n",
      "        [-2.7942e-01,  9.6017e-01,  5.6464e-01,  8.2534e-01,  5.9964e-02,\n",
      "          9.9820e-01,  6.0000e-03,  9.9998e-01],\n",
      "        [ 6.5699e-01,  7.5390e-01,  6.4422e-01,  7.6484e-01,  6.9943e-02,\n",
      "          9.9755e-01,  6.9999e-03,  9.9998e-01],\n",
      "        [ 9.8936e-01, -1.4550e-01,  7.1736e-01,  6.9671e-01,  7.9915e-02,\n",
      "          9.9680e-01,  7.9999e-03,  9.9997e-01],\n",
      "        [ 4.1212e-01, -9.1113e-01,  7.8333e-01,  6.2161e-01,  8.9879e-02,\n",
      "          9.9595e-01,  8.9999e-03,  9.9996e-01],\n",
      "        [-5.4402e-01, -8.3907e-01,  8.4147e-01,  5.4030e-01,  9.9833e-02,\n",
      "          9.9500e-01,  9.9998e-03,  9.9995e-01],\n",
      "        [-9.9999e-01,  4.4257e-03,  8.9121e-01,  4.5360e-01,  1.0978e-01,\n",
      "          9.9396e-01,  1.1000e-02,  9.9994e-01],\n",
      "        [-5.3657e-01,  8.4385e-01,  9.3204e-01,  3.6236e-01,  1.1971e-01,\n",
      "          9.9281e-01,  1.2000e-02,  9.9993e-01],\n",
      "        [ 4.2017e-01,  9.0745e-01,  9.6356e-01,  2.6750e-01,  1.2963e-01,\n",
      "          9.9156e-01,  1.3000e-02,  9.9992e-01],\n",
      "        [ 9.9061e-01,  1.3674e-01,  9.8545e-01,  1.6997e-01,  1.3954e-01,\n",
      "          9.9022e-01,  1.4000e-02,  9.9990e-01]])\n",
      "Original Input:\n",
      " tensor([[0.0862, 0.1753, 0.3132, 0.4483, 0.1694]])\n",
      "input shape: torch.Size([1, 5])\n"
     ]
    },
    {
     "ename": "RuntimeError",
     "evalue": "The size of tensor a (5) must match the size of tensor b (8) at non-singleton dimension 2",
     "output_type": "error",
     "traceback": [
      "\u001b[0;31m---------------------------------------------------------------------------\u001b[0m",
      "\u001b[0;31mRuntimeError\u001b[0m                              Traceback (most recent call last)",
      "Cell \u001b[0;32mIn[11], line 39\u001b[0m\n\u001b[1;32m     36\u001b[0m \u001b[38;5;28mprint\u001b[39m(\u001b[38;5;124m\"\u001b[39m\u001b[38;5;124minput shape:\u001b[39m\u001b[38;5;124m\"\u001b[39m, x\u001b[38;5;241m.\u001b[39mshape)\n\u001b[1;32m     38\u001b[0m \u001b[38;5;66;03m# Apply Positional Encoding\u001b[39;00m\n\u001b[0;32m---> 39\u001b[0m x_encoded \u001b[38;5;241m=\u001b[39m \u001b[43mpos_enc\u001b[49m\u001b[43m(\u001b[49m\u001b[43mx\u001b[49m\u001b[43m)\u001b[49m\n\u001b[1;32m     41\u001b[0m \u001b[38;5;28mprint\u001b[39m(\u001b[38;5;124m\"\u001b[39m\u001b[38;5;130;01m\\n\u001b[39;00m\u001b[38;5;124mPositional Encoded Input:\u001b[39m\u001b[38;5;130;01m\\n\u001b[39;00m\u001b[38;5;124m\"\u001b[39m, x_encoded)\n\u001b[1;32m     42\u001b[0m \u001b[38;5;28mprint\u001b[39m(\u001b[38;5;124m\"\u001b[39m\u001b[38;5;124moutput shape\u001b[39m\u001b[38;5;124m\"\u001b[39m, x_encoded\u001b[38;5;241m.\u001b[39mshape)\n",
      "File \u001b[0;32m~/anaconda3/envs/Orientor/lib/python3.10/site-packages/torch/nn/modules/module.py:1736\u001b[0m, in \u001b[0;36mModule._wrapped_call_impl\u001b[0;34m(self, *args, **kwargs)\u001b[0m\n\u001b[1;32m   1734\u001b[0m     \u001b[38;5;28;01mreturn\u001b[39;00m \u001b[38;5;28mself\u001b[39m\u001b[38;5;241m.\u001b[39m_compiled_call_impl(\u001b[38;5;241m*\u001b[39margs, \u001b[38;5;241m*\u001b[39m\u001b[38;5;241m*\u001b[39mkwargs)  \u001b[38;5;66;03m# type: ignore[misc]\u001b[39;00m\n\u001b[1;32m   1735\u001b[0m \u001b[38;5;28;01melse\u001b[39;00m:\n\u001b[0;32m-> 1736\u001b[0m     \u001b[38;5;28;01mreturn\u001b[39;00m \u001b[38;5;28;43mself\u001b[39;49m\u001b[38;5;241;43m.\u001b[39;49m\u001b[43m_call_impl\u001b[49m\u001b[43m(\u001b[49m\u001b[38;5;241;43m*\u001b[39;49m\u001b[43margs\u001b[49m\u001b[43m,\u001b[49m\u001b[43m \u001b[49m\u001b[38;5;241;43m*\u001b[39;49m\u001b[38;5;241;43m*\u001b[39;49m\u001b[43mkwargs\u001b[49m\u001b[43m)\u001b[49m\n",
      "File \u001b[0;32m~/anaconda3/envs/Orientor/lib/python3.10/site-packages/torch/nn/modules/module.py:1747\u001b[0m, in \u001b[0;36mModule._call_impl\u001b[0;34m(self, *args, **kwargs)\u001b[0m\n\u001b[1;32m   1742\u001b[0m \u001b[38;5;66;03m# If we don't have any hooks, we want to skip the rest of the logic in\u001b[39;00m\n\u001b[1;32m   1743\u001b[0m \u001b[38;5;66;03m# this function, and just call forward.\u001b[39;00m\n\u001b[1;32m   1744\u001b[0m \u001b[38;5;28;01mif\u001b[39;00m \u001b[38;5;129;01mnot\u001b[39;00m (\u001b[38;5;28mself\u001b[39m\u001b[38;5;241m.\u001b[39m_backward_hooks \u001b[38;5;129;01mor\u001b[39;00m \u001b[38;5;28mself\u001b[39m\u001b[38;5;241m.\u001b[39m_backward_pre_hooks \u001b[38;5;129;01mor\u001b[39;00m \u001b[38;5;28mself\u001b[39m\u001b[38;5;241m.\u001b[39m_forward_hooks \u001b[38;5;129;01mor\u001b[39;00m \u001b[38;5;28mself\u001b[39m\u001b[38;5;241m.\u001b[39m_forward_pre_hooks\n\u001b[1;32m   1745\u001b[0m         \u001b[38;5;129;01mor\u001b[39;00m _global_backward_pre_hooks \u001b[38;5;129;01mor\u001b[39;00m _global_backward_hooks\n\u001b[1;32m   1746\u001b[0m         \u001b[38;5;129;01mor\u001b[39;00m _global_forward_hooks \u001b[38;5;129;01mor\u001b[39;00m _global_forward_pre_hooks):\n\u001b[0;32m-> 1747\u001b[0m     \u001b[38;5;28;01mreturn\u001b[39;00m \u001b[43mforward_call\u001b[49m\u001b[43m(\u001b[49m\u001b[38;5;241;43m*\u001b[39;49m\u001b[43margs\u001b[49m\u001b[43m,\u001b[49m\u001b[43m \u001b[49m\u001b[38;5;241;43m*\u001b[39;49m\u001b[38;5;241;43m*\u001b[39;49m\u001b[43mkwargs\u001b[49m\u001b[43m)\u001b[49m\n\u001b[1;32m   1749\u001b[0m result \u001b[38;5;241m=\u001b[39m \u001b[38;5;28;01mNone\u001b[39;00m\n\u001b[1;32m   1750\u001b[0m called_always_called_hooks \u001b[38;5;241m=\u001b[39m \u001b[38;5;28mset\u001b[39m()\n",
      "Cell \u001b[0;32mIn[11], line 23\u001b[0m, in \u001b[0;36mPositionalEncoding.forward\u001b[0;34m(self, x)\u001b[0m\n\u001b[1;32m     22\u001b[0m \u001b[38;5;28;01mdef\u001b[39;00m \u001b[38;5;21mforward\u001b[39m(\u001b[38;5;28mself\u001b[39m, x):\n\u001b[0;32m---> 23\u001b[0m     \u001b[38;5;28;01mreturn\u001b[39;00m \u001b[43mx\u001b[49m\u001b[43m \u001b[49m\u001b[38;5;241;43m+\u001b[39;49m\u001b[43m \u001b[49m\u001b[38;5;28;43mself\u001b[39;49m\u001b[38;5;241;43m.\u001b[39;49m\u001b[43mpos_table\u001b[49m\u001b[43m[\u001b[49m\u001b[43m:\u001b[49m\u001b[43m,\u001b[49m\u001b[43m \u001b[49m\u001b[43m:\u001b[49m\u001b[43mx\u001b[49m\u001b[38;5;241;43m.\u001b[39;49m\u001b[43msize\u001b[49m\u001b[43m(\u001b[49m\u001b[38;5;241;43m1\u001b[39;49m\u001b[43m)\u001b[49m\u001b[43m]\u001b[49m\u001b[38;5;241;43m.\u001b[39;49m\u001b[43mclone\u001b[49m\u001b[43m(\u001b[49m\u001b[43m)\u001b[49m\u001b[38;5;241;43m.\u001b[39;49m\u001b[43mdetach\u001b[49m\u001b[43m(\u001b[49m\u001b[43m)\u001b[49m\n",
      "\u001b[0;31mRuntimeError\u001b[0m: The size of tensor a (5) must match the size of tensor b (8) at non-singleton dimension 2"
     ]
    }
   ],
   "source": [
    "import torch\n",
    "import torch.nn as nn\n",
    "\n",
    "class PositionalEncoding(nn.Module):\n",
    "    def __init__(self, d_model, max_len=200, device='cpu'):\n",
    "        super(PositionalEncoding, self).__init__()\n",
    "        self.pos_table = self._get_sinusoid_encoding_table(max_len, d_model, device)\n",
    "\n",
    "    def _get_sinusoid_encoding_table(self, max_seq_len, d_hid, device):\n",
    "        position = torch.arange(0, max_seq_len, device=device).float().unsqueeze(1)\n",
    "        div_term = torch.exp(torch.arange(0, d_hid, 2, device=device).float() * -(torch.log(torch.tensor(10000.0)) / d_hid))\n",
    "        print(\"div term \", div_term)\n",
    "        \n",
    "        sinusoid_table = torch.zeros(max_seq_len, d_hid, device=device)\n",
    "        print(\"sinusoid_table's shape is \", sinusoid_table.shape)\n",
    "        sinusoid_table[:, 0::2] = torch.sin(position * div_term)\n",
    "        sinusoid_table[:, 1::2] = torch.cos(position * div_term)\n",
    "        print(sinusoid_table)\n",
    "\n",
    "        return sinusoid_table.unsqueeze(0)\n",
    "\n",
    "    def forward(self, x):\n",
    "        return x + self.pos_table[:, :x.size(1)].clone().detach()\n",
    "\n",
    "# Initialize Positional Encoding\n",
    "d_model = 8\n",
    "max_len = 15\n",
    "pos_enc = PositionalEncoding(d_model, max_len)\n",
    "\n",
    "# Generate example data\n",
    "batch_size = 1\n",
    "seq_len = 5\n",
    "x = torch.rand(batch_size, seq_len)\n",
    "\n",
    "print(\"Original Input:\\n\", x)\n",
    "print(\"input shape:\", x.shape)\n",
    "\n",
    "# Apply Positional Encoding\n",
    "x_encoded = pos_enc(x)\n",
    "\n",
    "print(\"\\nPositional Encoded Input:\\n\", x_encoded)\n",
    "print(\"output shape\", x_encoded.shape)"
   ]
  },
  {
   "cell_type": "code",
   "execution_count": 4,
   "metadata": {},
   "outputs": [
    {
     "name": "stdout",
     "output_type": "stream",
     "text": [
      "torch.Size([640, 10000])\n",
      "torch.Size([640])\n",
      "tensor(9.3885, grad_fn=<NllLossBackward0>)\n"
     ]
    }
   ],
   "source": [
    "import torch\n",
    "import torch.nn.functional as F\n",
    "from torch import nn\n",
    "\n",
    "# 假设 decoders_output 的形状\n",
    "decoders_output = torch.randn(32, 20, 512)  # [batch_size, tgt_seq_len, d_model]\n",
    "\n",
    "# 线性层，将其映射到词汇表大小\n",
    "linear = nn.Linear(512, 10000)  # [d_model, vocab_size]\n",
    "logits = linear(decoders_output)  # [32, 20, 10000]\n",
    "\n",
    "# 调整 logit 的形状\n",
    "logits = logits.view(-1, 10000)  # [32 * 20, 10000]\n",
    "\n",
    "# 假设目标序列\n",
    "targets = torch.randint(0, 10000, (32, 20))  # [batch_size, tgt_seq_len]\n",
    "targets = targets.view(-1)  # [32 * 20]\n",
    "\n",
    "# 手动计算过程\n",
    "log_probs = F.log_softmax(logits, dim=1)  # 计算对数几率\n",
    "print(log_probs.shape)\n",
    "print(targets.shape)\n",
    "loss = F.nll_loss(log_probs, targets, ignore_index=0)  # 计算 NLL 损失\n",
    "print(loss)\n",
    "# 使用 nn.CrossEntropyLoss\n",
    "criterion = nn.CrossEntropyLoss(ignore_index=0)\n",
    "loss_auto = criterion(logits, targets)\n",
    "\n",
    "# 两种方法计算的损失应当是一样的\n",
    "assert torch.allclose(loss, loss_auto), \"损失计算不匹配\""
   ]
  },
  {
   "cell_type": "markdown",
   "metadata": {},
   "source": [
    "# 标签平滑"
   ]
  },
  {
   "cell_type": "code",
   "execution_count": 6,
   "metadata": {},
   "outputs": [],
   "source": [
    "class LabelSmoothingLoss(nn.Module):\n",
    "    def __init__(self, label_smoothing, vocab_size, ignore_index=-100):\n",
    "        super(LabelSmoothingLoss, self).__init__()\n",
    "        self.criterion = nn.KLDivLoss(reduction='sum')\n",
    "        self.label_smoothing = label_smoothing\n",
    "        self.vocab_size = vocab_size\n",
    "        self.ignore_index = ignore_index\n",
    "\n",
    "    def forward(self, logits, target):\n",
    "        # logits: [batch_size * tgt_seq_len, vocab_size]\n",
    "        # target: [batch_size * tgt_seq_len]\n",
    "        \n",
    "        # 计算 log_probs\n",
    "        log_probs = F.log_softmax(logits, dim=-1)\n",
    "        \n",
    "        # 创建真实分布\n",
    "        true_dist = torch.zeros_like(log_probs)\n",
    "        true_dist.fill_(self.label_smoothing / (self.vocab_size - 1))\n",
    "        ignore = target == self.ignore_index\n",
    "        target = target.unsqueeze(1)\n",
    "        true_dist.scatter_(1, target, 1.0 - self.label_smoothing)\n",
    "        true_dist[ignore] = 0\n",
    "        \n",
    "        loss = self.criterion(log_probs, true_dist)\n",
    "        return loss / (~ignore).sum()"
   ]
  },
  {
   "cell_type": "code",
   "execution_count": 8,
   "metadata": {},
   "outputs": [
    {
     "data": {
      "text/plain": [
       "tensor(8.1412, grad_fn=<DivBackward0>)"
      ]
     },
     "execution_count": 8,
     "metadata": {},
     "output_type": "execute_result"
    }
   ],
   "source": [
    "criterion = LabelSmoothingLoss(label_smoothing=0.1, vocab_size=10000, ignore_index=0)\n",
    "criterion(logits, targets)"
   ]
  },
  {
   "cell_type": "code",
   "execution_count": 7,
   "metadata": {},
   "outputs": [
    {
     "data": {
      "text/plain": [
       "torch.Size([200, 1])"
      ]
     },
     "execution_count": 7,
     "metadata": {},
     "output_type": "execute_result"
    }
   ],
   "source": [
    "position = torch.arange(0, 200).float().unsqueeze(1)\n",
    "position.size()"
   ]
  },
  {
   "cell_type": "code",
   "execution_count": 29,
   "metadata": {},
   "outputs": [
    {
     "name": "stdout",
     "output_type": "stream",
     "text": [
      "First 10 xy_pre: [['149.8', '152.5'], ['149.6', '152.0'], ['143.7', '152.1'], ['140.4', '152.1'], ['139.2', '152.1'], ['140.8', '152.0'], ['138.4', '151.8'], ['127.2', '151.9'], ['123.9', '151.9'], ['132.9', '152.2'], ['122.8', '152.6'], ['117.5', '152.3'], ['117.0', '151.9'], ['101.4', '153.1'], ['117.7', '153.1'], ['100.5', '151.9'], ['97.4', '152.2'], ['94.8', '152.2'], ['91.3', '152.3'], ['93.1', '151.8']]\n",
      "First 10 yaw_pre: ['86.3', '90.6', '90.3', '90.1', '90.5', '89.8', '89.7', '92.2', '90.3', '90.8', '90.3', '89.9', '90.8', '90.9', '89.5', '90.5', '90.4', '90.4', '90.2', '90.3']\n"
     ]
    }
   ],
   "source": [
    "import json\n",
    "import numpy as np\n",
    "import matplotlib.pyplot as plt \n",
    "loc_data_path = \"/home/lixiang/e2eloc_data/data.json\"\n",
    "\n",
    "pre_errors_xy = []\n",
    "pre_errors_yaw = []\n",
    "\n",
    "errors_yaw = []\n",
    "\n",
    "xy_gt = []\n",
    "xy_pre = []\n",
    "yaw_gt = []\n",
    "yaw_pre = []\n",
    "\n",
    "assert(loc_data_path is not None)\n",
    "\n",
    "with open(loc_data_path, \"r\") as f:\n",
    "    data = [json.loads(line) for line in f]\n",
    "    xy_gt = data[0][\"xy_gt\"]\n",
    "    xy_pre = data[0][\"xy_pre\"]\n",
    "    yaw_gt = data[0][\"yaw_gt\"]\n",
    "    yaw_pre = data[0][\"yaw_pre\"]\n",
    "    assert len(xy_gt) == len(xy_pre)\n",
    "    assert len(yaw_gt) == len(yaw_pre)\n",
    "    for gt, pre in zip(xy_gt, xy_pre):\n",
    "        error = np.linalg.norm(np.array(gt) - np.array(pre))\n",
    "        pre_errors_xy.append(error)\n",
    "    formatted_xy_pre = [[f\"{x:.1f}\", f\"{y:.1f}\"] for x, y in xy_pre[:20]]\n",
    "    formatted_yaw_pre = [f\"{yaw:.1f}\" for yaw in yaw_pre[:20]]\n",
    "    print(\"First 10 xy_pre:\", formatted_xy_pre)\n",
    "    print(\"First 10 yaw_pre:\", formatted_yaw_pre)\n",
    "    "
   ]
  },
  {
   "cell_type": "code",
   "execution_count": 174,
   "metadata": {},
   "outputs": [],
   "source": [
    "def plot_error_xy_hist(errors, save_pic_path=None):\n",
    "\tplt.figure(figsize=(8, 6))\n",
    "\tplt.hist(errors, bins=100, color=\"blue\", alpha=0.3)\n",
    "\tplt.xlabel(\"Error\")\n",
    "\tplt.ylabel(\"Frequency\")\n",
    "\tplt.title(\"Error Distribution\")\n",
    "\tif save_pic_path:\n",
    "\t\tplt.savefig(\"./\" + save_pic_path + \".png\")\n",
    "\t\tprint(f\"图像已保存为 {save_pic_path}\")\n",
    "\telse:\n",
    "\t\tplt.show()"
   ]
  },
  {
   "cell_type": "code",
   "execution_count": 163,
   "metadata": {},
   "outputs": [],
   "source": [
    "class KalmanFilter:\n",
    "    def __init__(self, process_noise=1.0, measurement_noise=1.0, estimation_error=1.0, initial_state=None):\n",
    "        # 状态向量包括 [x, y, theta, v_x, v_y, v_theta]\n",
    "        self.A = np.eye(6)\n",
    "        self.H = np.eye(3, 6)  # 观测矩阵\n",
    "        self.Q = np.eye(6) * process_noise\n",
    "        self.R = np.eye(3) * measurement_noise\n",
    "        self.P = np.eye(6) * estimation_error\n",
    "        \n",
    "        if initial_state is not None:\n",
    "            self.x = np.hstack((initial_state, np.zeros(3))) \n",
    "        else:\n",
    "            self.x = np.zeros(6)\n",
    "\n",
    "    def predict(self, delta_time=0.0):\n",
    "        self.A[0, 3] = delta_time\n",
    "        self.A[1, 4] = delta_time\n",
    "        self.A[2, 5] = delta_time\n",
    "        \n",
    "        self.x = np.dot(self.A, self.x)\n",
    "        self.P = np.dot(self.A, np.dot(self.P, self.A.T)) + self.Q\n",
    "\n",
    "    def update(self, z):\n",
    "        y = z - np.dot(self.H, self.x)\n",
    "        S = np.dot(self.H, np.dot(self.P, self.H.T)) + self.R\n",
    "        K = np.dot(self.P, np.dot(self.H.T, np.linalg.inv(S)))\n",
    "\n",
    "        self.x = self.x + np.dot(K, y)\n",
    "        self.P = self.P - np.dot(K, np.dot(self.H, self.P))\n",
    "\n",
    "    def get_state(self):\n",
    "        return self.x\n",
    "\n",
    "    def set_velocity(self, velocity):\n",
    "        self.x[3:] = velocity  # 更新速度部分"
   ]
  },
  {
   "cell_type": "code",
   "execution_count": 176,
   "metadata": {},
   "outputs": [],
   "source": [
    "class PoseOptimizer:\n",
    "    def __init__(self, window_size=20, threshold_factor=1, distance_thr=10, inital_state=None):\n",
    "        self.window_size = window_size\n",
    "        self.history = []\n",
    "        self.timestamps = []\n",
    "        self.threshold_factor = threshold_factor\n",
    "        self.distance_thr = distance_thr\n",
    "        self.cnt = 0\n",
    "        self.kalman = KalmanFilter(initial_state=inital_state)\n",
    "\n",
    "    # 添加历史位姿\n",
    "    def add_pose(self, pose, timestamp=None):\n",
    "        self.history.append(pose)\n",
    "        if timestamp is not None:\n",
    "            self.timestamps.append(timestamp)\n",
    "        \n",
    "        if len(self.history) > self.window_size:\n",
    "            self.history.pop(0)\n",
    "            if timestamp is not None:\n",
    "                self.timestamps.pop(0)\n",
    "\n",
    "    # def calculate_statistics(self):\n",
    "    #     deltas = np.diff(np.array(self.history), axis=0)\n",
    "    #     # print(\"deltas\",deltas)\n",
    "    #     delta_positions = deltas[:, :2]\n",
    "    #     delta_yaws = deltas[:, 2]\n",
    "\n",
    "    #     mean_delta_position = np.mean(delta_positions, axis=0)\n",
    "    #     std_delta_position = np.std(delta_positions, axis=0)\n",
    "\n",
    "    #     mean_delta_yaw = np.mean(delta_yaws)\n",
    "    #     std_delta_yaw = np.std(delta_yaws)\n",
    "\n",
    "    #     return mean_delta_position, std_delta_position, mean_delta_yaw, std_delta_yaw\n",
    "    \n",
    "    def calculate_velocity(self):\n",
    "        if len(self.timestamps) < 2:\n",
    "            return np.zeros(3)\n",
    "        \n",
    "        velocities = []\n",
    "        for i in range(1, len(self.timestamps)):\n",
    "            delta_time = self.timestamps[i] - self.timestamps[i - 1]\n",
    "            if delta_time > 0:\n",
    "                delta_position = np.array(self.history[i][:]) - np.array(self.history[i - 1][:])\n",
    "                velocity = delta_position / delta_time\n",
    "                velocities.append(velocity)\n",
    "\n",
    "        mean_velocity = np.mean(velocities, axis=0)\n",
    "        return mean_velocity\n",
    "     \n",
    "\n",
    "    def optimize_pose(self, current_pose, odometry_pose, current_timestamp=None):\n",
    "        if len(self.history) < 2:\n",
    "            return current_pose\n",
    "        # mean_delta_position, std_delta_position, mean_delta_yaw, std_delta_yaw = self.calculate_statistics()\n",
    "        mean_velocity = self.calculate_velocity()\n",
    "        self.kalman.set_velocity(mean_velocity)  # 更新速度\n",
    "        \n",
    "        last_pose = np.array(self.history[-1])\n",
    "\n",
    "        # delta_position = current_delta[:2]\n",
    "        # delta_yaw = current_delta[2]\n",
    "        \n",
    "        # cur_dis = np.linalg.norm(delta_position)\n",
    "\n",
    "        # 检查变化量是否在标准差阈值内\n",
    "        # position_within_threshold = np.all(np.abs(delta_position - mean_delta_position) <= self.threshold_factor * std_delta_position)\n",
    "        # yaw_within_threshold = np.abs(delta_yaw - mean_delta_yaw) <= self.threshold_factor * std_delta_yaw\n",
    "\n",
    "        # if position_within_threshold or yaw_within_threshold or cur_dis < self.distance_thr:\n",
    "        #     return current_pose\n",
    "        \n",
    "        delta_time = 1.0\n",
    "        if current_timestamp is not None and self.timestamps:\n",
    "            delta_time = current_timestamp - self.timestamps[-1] # 时间更新\n",
    "        \n",
    "        self.kalman.predict(delta_time=delta_time)\n",
    "        self.kalman.update(np.array(odometry_pose))\n",
    "        optimized_state = self.kalman.get_state()\n",
    "        \n",
    "        optimized_pose = [optimized_state[0], optimized_state[1], optimized_state[2]]\n",
    "        current_delta = np.array(optimized_pose) - last_pose\n",
    "        cur_dis = np.linalg.norm(current_delta)\n",
    "        \n",
    "        if (cur_dis > 10):\n",
    "            print(\"distance over 10meters\", cur_dis)\n",
    "            return current_pose\n",
    "        # delta_position = current_delta[:2]\n",
    "        # cur_dis = np.linalg.norm(delta_position)\n",
    "        return optimized_pose\n",
    "        \n",
    "        # if current_timestamp is not None and self.timestamps:\n",
    "        #     delta_time = current_timestamp - self.timestamps[-1]\n",
    "        #     if delta_time > 0:\n",
    "        #         estimated_position = last_pose[:2] + mean_velocity * delta_time\n",
    "        #         estimated_pose = np.array([estimated_position[0], estimated_position[1], current_pose[2]])\n",
    "        #         self.kalman.update(estimated_pose)\n",
    "            \n",
    "\t\t# self.kalman.update(np.array(current_pose))\n",
    "\n",
    "\n",
    "        # print(\"当前标准差\", std_delta_position)\n",
    "        \n",
    "        # optimized_position = np.array(last_pose[:2]) * 0.2 + np.array(current_pose[:2]) * 0.8\n",
    "        # optimized_yaw = last_pose[2] * 0.2 + current_pose[2] * 0.8\n",
    "\n",
    "        # return current_pose[0], current_pose[1], current_pose[2]\n",
    "\n"
   ]
  },
  {
   "cell_type": "code",
   "execution_count": 177,
   "metadata": {},
   "outputs": [],
   "source": [
    "# 示例使用\n",
    "optimizer = PoseOptimizer(threshold_factor=3)\n",
    "initial_poses = [xy_gt[i] + [yaw_gt[i]] for i in range(5)]\n",
    "# initial_poses\n",
    "for i in range(5):\n",
    "    pose = xy_gt[i] + [yaw_gt[i]]\n",
    "    timestamp = i  # 示例时间戳\n",
    "    optimizer.add_pose(pose, timestamp)"
   ]
  },
  {
   "cell_type": "code",
   "execution_count": 178,
   "metadata": {},
   "outputs": [
    {
     "name": "stdout",
     "output_type": "stream",
     "text": [
      "distance over 10meters 57.88575481352798\n",
      "distance over 10meters 14.456517951776222\n",
      "distance over 10meters 12.822701413885445\n",
      "distance over 10meters 27.29474816280218\n",
      "distance over 10meters 14.378352746347936\n",
      "distance over 10meters 14.781533381671952\n",
      "distance over 10meters 292.4775952321824\n",
      "distance over 10meters 15.578057008689106\n",
      "distance over 10meters 13.24992516666009\n",
      "distance over 10meters 12.79841200713029\n",
      "distance over 10meters 10.89627513804644\n",
      "distance over 10meters 11.092686155485563\n",
      "distance over 10meters 13.679246896595423\n",
      "distance over 10meters 11.438404530514399\n",
      "distance over 10meters 14.57245859029509\n",
      "distance over 10meters 10.477883283858455\n",
      "distance over 10meters 15.491477520706644\n",
      "distance over 10meters 13.91492226287726\n",
      "distance over 10meters 12.398208080854094\n",
      "distance over 10meters 12.427597765342755\n",
      "distance over 10meters 23.456360569422866\n",
      "distance over 10meters 16.308968765552756\n",
      "distance over 10meters 39.54854750266934\n",
      "distance over 10meters 12.918965306378244\n",
      "distance over 10meters 20.241583786646366\n",
      "distance over 10meters 11.580944131946806\n",
      "distance over 10meters 13.151966176388761\n",
      "distance over 10meters 15.587208330550338\n",
      "distance over 10meters 20.82508295617842\n",
      "distance over 10meters 16.399349628403066\n",
      "distance over 10meters 13.05976798816976\n",
      "distance over 10meters 293.71540665141606\n",
      "distance over 10meters 17.106580871286933\n",
      "distance over 10meters 18.861131205070485\n",
      "distance over 10meters 18.423426382196915\n",
      "distance over 10meters 16.292673516642523\n",
      "distance over 10meters 16.66285790730937\n",
      "distance over 10meters 14.102044929617511\n",
      "distance over 10meters 10.585510799777841\n",
      "distance over 10meters 360.6541255691899\n",
      "distance over 10meters 292.69437027343577\n",
      "distance over 10meters 10.211258381754746\n",
      "distance over 10meters 357.06330038373187\n",
      "distance over 10meters 17.809634386426705\n",
      "distance over 10meters 17.403628467503726\n",
      "distance over 10meters 10.874369207200969\n",
      "distance over 10meters 13.910423918094798\n",
      "distance over 10meters 11.042974843284222\n",
      "distance over 10meters 14.53014078867896\n",
      "distance over 10meters 289.4043192827144\n",
      "distance over 10meters 11.026014393158492\n",
      "distance over 10meters 292.7846414615115\n",
      "distance over 10meters 341.00816652004016\n",
      "distance over 10meters 10.728691180517758\n",
      "distance over 10meters 15.206806039334326\n",
      "distance over 10meters 12.322144968128272\n",
      "distance over 10meters 10.386477020398818\n",
      "distance over 10meters 15.32294516745645\n",
      "distance over 10meters 26.536287967710553\n",
      "distance over 10meters 11.985777280923166\n"
     ]
    }
   ],
   "source": [
    "smoothed_poses = [pose for pose in initial_poses]\n",
    "for i in range(5, len(xy_gt)):\n",
    "    odometry_noise = np.random.normal(0.01, 0.1, size=2)  # 添加噪声\n",
    "    odometry_pose = [xy_gt[i][0] + odometry_noise[0], xy_gt[i][1] + odometry_noise[1], yaw_gt[i]]\n",
    "    current_pose = xy_pre[i] + [yaw_pre[i]]\n",
    "    current_timestamp = i  # 示例时间戳\n",
    "    optimized_pose = optimizer.optimize_pose(current_pose, odometry_pose, current_timestamp)\n",
    "    smoothed_poses.append(optimized_pose)\n",
    "    optimizer.add_pose(optimized_pose, current_timestamp)"
   ]
  },
  {
   "cell_type": "code",
   "execution_count": 179,
   "metadata": {},
   "outputs": [
    {
     "name": "stdout",
     "output_type": "stream",
     "text": [
      "Smoothed Poses: 240\n"
     ]
    },
    {
     "data": {
      "text/plain": [
       "True"
      ]
     },
     "execution_count": 179,
     "metadata": {},
     "output_type": "execute_result"
    }
   ],
   "source": [
    "print(\"Smoothed Poses:\" , len(smoothed_poses))\n",
    "# for pose in smoothed_poses:\n",
    "#     print(f\"x: {pose[0]:.1f}, y: {pose[1]:.1f}, yaw: {pose[2]:.1f}\")\n",
    "    \n",
    "len(xy_pre) == len(smoothed_poses)"
   ]
  },
  {
   "cell_type": "code",
   "execution_count": null,
   "metadata": {},
   "outputs": [],
   "source": []
  },
  {
   "cell_type": "code",
   "execution_count": 180,
   "metadata": {},
   "outputs": [],
   "source": [
    "smoothed_xy = [[pose[0], pose[1]] for pose in smoothed_poses]\n",
    "errors_xy = []\n",
    "for gt, pre_smoothed in zip(xy_gt, smoothed_xy):\n",
    "\terror = np.linalg.norm(np.array(gt) - np.array(pre_smoothed))\n",
    "\terrors_xy.append(error)\n"
   ]
  },
  {
   "cell_type": "code",
   "execution_count": 181,
   "metadata": {},
   "outputs": [
    {
     "name": "stdout",
     "output_type": "stream",
     "text": [
      "图像已保存为 error_distribution_filted\n"
     ]
    },
    {
     "data": {
      "image/png": "[encoded data removed]",
      "text/plain": [
       "<Figure size 800x600 with 1 Axes>"
      ]
     },
     "metadata": {},
     "output_type": "display_data"
    }
   ],
   "source": [
    "plot_error_xy_hist(errors_xy, \"error_distribution_filted\")"
   ]
  },
  {
   "cell_type": "code",
   "execution_count": 183,
   "metadata": {},
   "outputs": [
    {
     "name": "stdout",
     "output_type": "stream",
     "text": [
      "图像已保存为 error_distribution_original\n"
     ]
    },
    {
     "data": {
      "image/png": "[encoded data removed]",
      "text/plain": [
       "<Figure size 800x600 with 1 Axes>"
      ]
     },
     "metadata": {},
     "output_type": "display_data"
    }
   ],
   "source": [
    "plot_error_xy_hist(pre_errors_xy, \"error_distribution_original\")"
   ]
  },
  {
   "cell_type": "code",
   "execution_count": 3,
   "metadata": {},
   "outputs": [],
   "source": [
    "import torch\n",
    "import torch.nn as nn\n",
    "def sine_positional_encoding(d_model, length):\n",
    "        # 初始化位置编码矩阵\n",
    "        positional_encoding = torch.zeros((length, d_model))\n",
    "\n",
    "        # 计算中心位置\n",
    "        center_pos = (length - 1) / 2\n",
    "\n",
    "        for pos in range(length):\n",
    "            # 将相对位置转换为 Tensor\n",
    "            relative_pos = torch.tensor(pos - center_pos, dtype=torch.float32)\n",
    "            for i in range(d_model):\n",
    "                div_term = torch.tensor(10000 ** (i / d_model), dtype=torch.float32)\n",
    "                # 偶数维度使用 sin\n",
    "                if i % 2 == 0:\n",
    "                    positional_encoding[pos, i] = torch.sin(relative_pos / div_term)\n",
    "                # 奇数维度使用 cos\n",
    "                else:\n",
    "                    positional_encoding[pos, i] = torch.cos(relative_pos / div_term)\n",
    "\n",
    "        return positional_encoding"
   ]
  },
  {
   "cell_type": "code",
   "execution_count": 6,
   "metadata": {},
   "outputs": [],
   "source": [
    "import torch\n",
    "from torch import nn\n",
    "\n",
    "embedding_dim = 16\n",
    "\n",
    "areas_embedding = nn.Embedding(num_embeddings=8, embedding_dim=embedding_dim)\n",
    "ways_embedding = nn.Embedding(num_embeddings=11, embedding_dim=embedding_dim)\n",
    "nodes_embedding = nn.Embedding(num_embeddings=34, embedding_dim=embedding_dim)"
   ]
  },
  {
   "cell_type": "code",
   "execution_count": 11,
   "metadata": {},
   "outputs": [],
   "source": [
    "# 构造一个示例输入\n",
    "areas = torch.randint(0, 8, (1, ))\n",
    "ways = torch.randint(0, 11, (1, ))\n",
    "nodes = torch.randint(0, 34, (1, ))"
   ]
  },
  {
   "cell_type": "code",
   "execution_count": 12,
   "metadata": {},
   "outputs": [],
   "source": [
    "areas_feat = areas_embedding(areas)\n",
    "ways_feat = ways_embedding(ways)\n",
    "nodes_feat = nodes_embedding(nodes)"
   ]
  },
  {
   "cell_type": "code",
   "execution_count": 16,
   "metadata": {},
   "outputs": [
    {
     "name": "stdout",
     "output_type": "stream",
     "text": [
      "torch.Size([1, 16])\n",
      "tensor([7])\n",
      "tensor([[ 0.6487, -0.2417, -0.8309,  1.2705,  1.3178, -1.0455, -0.9537, -1.4219,\n",
      "          1.0199,  1.2669,  0.0092,  0.0973, -0.5109, -1.1977,  1.3578,  0.7528]],\n",
      "       grad_fn=<EmbeddingBackward0>)\n",
      "Parameter containing:\n",
      "tensor([[ 0.3153,  1.0128,  0.8375, -1.1197,  0.2366,  0.2963, -0.1720, -1.0129,\n",
      "         -1.2230, -0.3508,  0.3569,  0.4617, -0.9334, -0.6586, -0.8000, -0.8838],\n",
      "        [-1.1272,  1.1314, -0.7513,  0.3075,  0.1040,  1.1174, -2.1440,  0.1408,\n",
      "         -0.1636,  0.7218,  1.7803, -0.4583, -1.4718,  1.3210,  0.8732, -2.0686],\n",
      "        [ 0.2532,  0.2122,  0.2750,  0.6165, -1.0744,  1.8126,  0.5492,  1.0874,\n",
      "          0.1225, -0.5105,  1.2674,  0.9291,  0.2445,  0.3186, -0.4311, -0.0723],\n",
      "        [-0.8925, -0.4790, -0.8620, -0.0712, -0.0105,  0.0403, -1.2562, -1.1406,\n",
      "         -0.5239, -1.3086, -0.0268,  2.5073, -2.3561,  1.5674,  1.0868, -1.4491],\n",
      "        [ 1.6219,  1.0229,  1.2740, -0.4948, -1.3486,  1.5439,  0.9027,  0.4671,\n",
      "          1.5906,  0.0656, -0.3799,  0.6678, -0.7475, -1.0796, -0.8672, -0.0312],\n",
      "        [-0.4426,  0.4536, -0.0103,  1.4853, -1.4109, -0.5036, -0.5347,  0.6571,\n",
      "         -1.4601,  0.0982,  1.0356, -0.1401,  0.7306, -0.8375, -0.2327,  0.8124],\n",
      "        [ 0.3043,  2.5906,  0.6259,  2.0567,  0.3314, -1.4157,  0.4230,  0.9822,\n",
      "          2.0673, -2.4063, -0.1820, -0.8276, -2.0806,  0.6392,  0.0335, -0.2103],\n",
      "        [ 0.6487, -0.2417, -0.8309,  1.2705,  1.3178, -1.0455, -0.9537, -1.4219,\n",
      "          1.0199,  1.2669,  0.0092,  0.0973, -0.5109, -1.1977,  1.3578,  0.7528]],\n",
      "       requires_grad=True)\n"
     ]
    }
   ],
   "source": [
    "print(areas_feat.shape)\n",
    "print(areas)\n",
    "print(areas_feat)\n",
    "print(areas_embedding.weight)"
   ]
  }
 ],
 "metadata": {
  "kernelspec": {
   "display_name": "Orientor",
   "language": "python",
   "name": "python3"
  },
  "language_info": {
   "codemirror_mode": {
    "name": "ipython",
    "version": 3
   },
   "file_extension": ".py",
   "mimetype": "text/x-python",
   "name": "python",
   "nbconvert_exporter": "python",
   "pygments_lexer": "ipython3",
   "version": "3.10.13"
  }
 },
 "nbformat": 4,
 "nbformat_minor": 2
}
