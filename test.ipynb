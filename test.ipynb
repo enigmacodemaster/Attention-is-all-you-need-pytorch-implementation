{
 "cells": [
  {
   "cell_type": "code",
   "execution_count": 8,
   "metadata": {},
   "outputs": [
    {
     "name": "stdout",
     "output_type": "stream",
     "text": [
      "Original Input:\n",
      " tensor([[[0.3850, 0.5385, 0.9373, 0.9378, 0.4698, 0.5875, 0.2967, 0.9103],\n",
      "         [0.2427, 0.0146, 0.1008, 0.7644, 0.5750, 0.4641, 0.2080, 0.3063],\n",
      "         [0.5608, 0.6441, 0.6097, 0.7116, 0.2767, 0.1115, 0.8490, 0.5207],\n",
      "         [0.0299, 0.7309, 0.8054, 0.1917, 0.0828, 0.1358, 0.8224, 0.0253],\n",
      "         [0.8246, 0.2751, 0.3948, 0.2837, 0.4042, 0.0490, 0.5056, 0.6815]]])\n",
      "input shape: torch.Size([1, 5, 8])\n",
      "\n",
      "Positional Encoded Input:\n",
      " tensor([[[ 0.3850,  1.5385,  0.9373,  1.9378,  0.4698,  1.5875,  0.2967,\n",
      "           1.9103],\n",
      "         [ 1.0842,  0.5549,  0.2006,  1.7595,  0.5850,  1.4640,  0.2090,\n",
      "           1.3063],\n",
      "         [ 1.4701,  0.2279,  0.8084,  1.6916,  0.2967,  1.1113,  0.8510,\n",
      "           1.5207],\n",
      "         [ 0.1710, -0.2591,  1.1009,  1.1470,  0.1128,  1.1353,  0.8254,\n",
      "           1.0253],\n",
      "         [ 0.0678, -0.3786,  0.7842,  1.2048,  0.4441,  1.0482,  0.5096,\n",
      "           1.6815]]])\n",
      "output shape torch.Size([1, 5, 8])\n"
     ]
    }
   ],
   "source": [
    "import torch\n",
    "import torch.nn as nn\n",
    "\n",
    "class PositionalEncoding(nn.Module):\n",
    "    def __init__(self, d_model, max_len=200, device='cpu'):\n",
    "        super(PositionalEncoding, self).__init__()\n",
    "        self.pos_table = self._get_sinusoid_encoding_table(max_len, d_model, device)\n",
    "\n",
    "    def _get_sinusoid_encoding_table(self, max_seq_len, d_hid, device):\n",
    "        position = torch.arange(0, max_seq_len, device=device).float().unsqueeze(1)\n",
    "        div_term = torch.exp(torch.arange(0, d_hid, 2, device=device).float() * -(torch.log(torch.tensor(10000.0)) / d_hid))\n",
    "        \n",
    "        sinusoid_table = torch.zeros(max_seq_len, d_hid, device=device)\n",
    "        sinusoid_table[:, 0::2] = torch.sin(position * div_term)\n",
    "        sinusoid_table[:, 1::2] = torch.cos(position * div_term)\n",
    "\n",
    "        return sinusoid_table.unsqueeze(0)\n",
    "\n",
    "    def forward(self, x):\n",
    "        return x + self.pos_table[:, :x.size(1)].clone().detach()\n",
    "\n",
    "# Initialize Positional Encoding\n",
    "d_model = 8\n",
    "max_len = 10\n",
    "pos_enc = PositionalEncoding(d_model, max_len)\n",
    "\n",
    "# Generate example data\n",
    "batch_size = 1\n",
    "seq_len = 5\n",
    "x = torch.rand(batch_size, seq_len, d_model)\n",
    "\n",
    "print(\"Original Input:\\n\", x)\n",
    "print(\"input shape:\", x.shape)\n",
    "\n",
    "# Apply Positional Encoding\n",
    "x_encoded = pos_enc(x)\n",
    "\n",
    "print(\"\\nPositional Encoded Input:\\n\", x_encoded)\n",
    "print(\"output shape\", x_encoded.shape)"
   ]
  }
 ],
 "metadata": {
  "kernelspec": {
   "display_name": "Orientor",
   "language": "python",
   "name": "python3"
  },
  "language_info": {
   "codemirror_mode": {
    "name": "ipython",
    "version": 3
   },
   "file_extension": ".py",
   "mimetype": "text/x-python",
   "name": "python",
   "nbconvert_exporter": "python",
   "pygments_lexer": "ipython3",
   "version": "3.10.13"
  }
 },
 "nbformat": 4,
 "nbformat_minor": 2
}
