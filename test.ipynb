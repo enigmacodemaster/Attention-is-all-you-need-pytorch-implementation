{
 "cells": [
  {
   "cell_type": "code",
   "execution_count": 7,
   "metadata": {},
   "outputs": [
    {
     "name": "stdout",
     "output_type": "stream",
     "text": [
      "Original Input:\n",
      " tensor([[[0.1498, 0.2171, 0.2090, 0.7003, 0.8706, 0.0539, 0.2485, 0.6293,\n",
      "          0.6528, 0.8268, 0.8233, 0.3336, 0.3325, 0.4685, 0.3345, 0.4057,\n",
      "          0.7719, 0.0992, 0.8649, 0.5906],\n",
      "         [0.5077, 0.0263, 0.6695, 0.5536, 0.5568, 0.1310, 0.1975, 0.3713,\n",
      "          0.0521, 0.2612, 0.4569, 0.7310, 0.5098, 0.5987, 0.3814, 0.5719,\n",
      "          0.2310, 0.0743, 0.5682, 0.8773],\n",
      "         [0.8124, 0.9283, 0.1257, 0.4863, 0.8155, 0.9625, 0.4131, 0.5422,\n",
      "          0.7215, 0.5551, 0.6208, 0.2217, 0.5136, 0.9822, 0.7423, 0.4047,\n",
      "          0.7964, 0.5500, 0.7129, 0.6685],\n",
      "         [0.6969, 0.7506, 0.5955, 0.0191, 0.7301, 0.6475, 0.5636, 0.5898,\n",
      "          0.5288, 0.1977, 0.0337, 0.8739, 0.6883, 0.5358, 0.3201, 0.5920,\n",
      "          0.2005, 0.3696, 0.8790, 0.2149],\n",
      "         [0.0141, 0.0640, 0.8949, 0.9949, 0.4060, 0.1965, 0.0362, 0.4216,\n",
      "          0.0655, 0.9540, 0.2774, 0.3447, 0.9953, 0.6674, 0.3529, 0.6556,\n",
      "          0.7959, 0.7898, 0.6810, 0.4014]]])\n",
      "input shape: torch.Size([1, 5, 20])\n"
     ]
    },
    {
     "ename": "RuntimeError",
     "evalue": "The size of tensor a (20) must match the size of tensor b (8) at non-singleton dimension 2",
     "output_type": "error",
     "traceback": [
      "\u001b[0;31m---------------------------------------------------------------------------\u001b[0m",
      "\u001b[0;31mRuntimeError\u001b[0m                              Traceback (most recent call last)",
      "Cell \u001b[0;32mIn[7], line 36\u001b[0m\n\u001b[1;32m     33\u001b[0m \u001b[38;5;28mprint\u001b[39m(\u001b[38;5;124m\"\u001b[39m\u001b[38;5;124minput shape:\u001b[39m\u001b[38;5;124m\"\u001b[39m, x\u001b[38;5;241m.\u001b[39mshape)\n\u001b[1;32m     35\u001b[0m \u001b[38;5;66;03m# Apply Positional Encoding\u001b[39;00m\n\u001b[0;32m---> 36\u001b[0m x_encoded \u001b[38;5;241m=\u001b[39m \u001b[43mpos_enc\u001b[49m\u001b[43m(\u001b[49m\u001b[43mx\u001b[49m\u001b[43m)\u001b[49m\n\u001b[1;32m     38\u001b[0m \u001b[38;5;28mprint\u001b[39m(\u001b[38;5;124m\"\u001b[39m\u001b[38;5;130;01m\\n\u001b[39;00m\u001b[38;5;124mPositional Encoded Input:\u001b[39m\u001b[38;5;130;01m\\n\u001b[39;00m\u001b[38;5;124m\"\u001b[39m, x_encoded)\n\u001b[1;32m     39\u001b[0m \u001b[38;5;28mprint\u001b[39m(\u001b[38;5;124m\"\u001b[39m\u001b[38;5;124moutput shape\u001b[39m\u001b[38;5;124m\"\u001b[39m, x_encoded\u001b[38;5;241m.\u001b[39mshape)\n",
      "File \u001b[0;32m~/anaconda3/envs/Orientor/lib/python3.10/site-packages/torch/nn/modules/module.py:1194\u001b[0m, in \u001b[0;36mModule._call_impl\u001b[0;34m(self, *input, **kwargs)\u001b[0m\n\u001b[1;32m   1190\u001b[0m \u001b[38;5;66;03m# If we don't have any hooks, we want to skip the rest of the logic in\u001b[39;00m\n\u001b[1;32m   1191\u001b[0m \u001b[38;5;66;03m# this function, and just call forward.\u001b[39;00m\n\u001b[1;32m   1192\u001b[0m \u001b[38;5;28;01mif\u001b[39;00m \u001b[38;5;129;01mnot\u001b[39;00m (\u001b[38;5;28mself\u001b[39m\u001b[38;5;241m.\u001b[39m_backward_hooks \u001b[38;5;129;01mor\u001b[39;00m \u001b[38;5;28mself\u001b[39m\u001b[38;5;241m.\u001b[39m_forward_hooks \u001b[38;5;129;01mor\u001b[39;00m \u001b[38;5;28mself\u001b[39m\u001b[38;5;241m.\u001b[39m_forward_pre_hooks \u001b[38;5;129;01mor\u001b[39;00m _global_backward_hooks\n\u001b[1;32m   1193\u001b[0m         \u001b[38;5;129;01mor\u001b[39;00m _global_forward_hooks \u001b[38;5;129;01mor\u001b[39;00m _global_forward_pre_hooks):\n\u001b[0;32m-> 1194\u001b[0m     \u001b[38;5;28;01mreturn\u001b[39;00m \u001b[43mforward_call\u001b[49m\u001b[43m(\u001b[49m\u001b[38;5;241;43m*\u001b[39;49m\u001b[38;5;28;43minput\u001b[39;49m\u001b[43m,\u001b[49m\u001b[43m \u001b[49m\u001b[38;5;241;43m*\u001b[39;49m\u001b[38;5;241;43m*\u001b[39;49m\u001b[43mkwargs\u001b[49m\u001b[43m)\u001b[49m\n\u001b[1;32m   1195\u001b[0m \u001b[38;5;66;03m# Do not call functions when jit is used\u001b[39;00m\n\u001b[1;32m   1196\u001b[0m full_backward_hooks, non_full_backward_hooks \u001b[38;5;241m=\u001b[39m [], []\n",
      "Cell \u001b[0;32mIn[7], line 20\u001b[0m, in \u001b[0;36mPositionalEncoding.forward\u001b[0;34m(self, x)\u001b[0m\n\u001b[1;32m     19\u001b[0m \u001b[38;5;28;01mdef\u001b[39;00m \u001b[38;5;21mforward\u001b[39m(\u001b[38;5;28mself\u001b[39m, x):\n\u001b[0;32m---> 20\u001b[0m     \u001b[38;5;28;01mreturn\u001b[39;00m \u001b[43mx\u001b[49m\u001b[43m \u001b[49m\u001b[38;5;241;43m+\u001b[39;49m\u001b[43m \u001b[49m\u001b[38;5;28;43mself\u001b[39;49m\u001b[38;5;241;43m.\u001b[39;49m\u001b[43mpos_table\u001b[49m\u001b[43m[\u001b[49m\u001b[43m:\u001b[49m\u001b[43m,\u001b[49m\u001b[43m \u001b[49m\u001b[43m:\u001b[49m\u001b[43mx\u001b[49m\u001b[38;5;241;43m.\u001b[39;49m\u001b[43msize\u001b[49m\u001b[43m(\u001b[49m\u001b[38;5;241;43m1\u001b[39;49m\u001b[43m)\u001b[49m\u001b[43m]\u001b[49m\u001b[38;5;241;43m.\u001b[39;49m\u001b[43mclone\u001b[49m\u001b[43m(\u001b[49m\u001b[43m)\u001b[49m\u001b[38;5;241;43m.\u001b[39;49m\u001b[43mdetach\u001b[49m\u001b[43m(\u001b[49m\u001b[43m)\u001b[49m\n",
      "\u001b[0;31mRuntimeError\u001b[0m: The size of tensor a (20) must match the size of tensor b (8) at non-singleton dimension 2"
     ]
    }
   ],
   "source": [
    "import torch\n",
    "import torch.nn as nn\n",
    "\n",
    "class PositionalEncoding(nn.Module):\n",
    "    def __init__(self, d_model, max_len=200, device='cpu'):\n",
    "        super(PositionalEncoding, self).__init__()\n",
    "        self.pos_table = self._get_sinusoid_encoding_table(max_len, d_model, device)\n",
    "\n",
    "    def _get_sinusoid_encoding_table(self, max_seq_len, d_hid, device):\n",
    "        position = torch.arange(0, max_seq_len, device=device).float().unsqueeze(1)\n",
    "        div_term = torch.exp(torch.arange(0, d_hid, 2, device=device).float() * -(torch.log(torch.tensor(10000.0)) / d_hid))\n",
    "        \n",
    "        sinusoid_table = torch.zeros(max_seq_len, d_hid, device=device)\n",
    "        sinusoid_table[:, 0::2] = torch.sin(position * div_term)\n",
    "        sinusoid_table[:, 1::2] = torch.cos(position * div_term)\n",
    "\n",
    "        return sinusoid_table.unsqueeze(0)\n",
    "\n",
    "    def forward(self, x):\n",
    "        return x + self.pos_table[:, :x.size(1)].clone().detach()\n",
    "\n",
    "# Initialize Positional Encoding\n",
    "d_model = 8\n",
    "max_len = 10\n",
    "pos_enc = PositionalEncoding(d_model, max_len)\n",
    "\n",
    "# Generate example data\n",
    "batch_size = 1\n",
    "seq_len = 5\n",
    "x = torch.rand(batch_size, seq_len, d_model)\n",
    "\n",
    "print(\"Original Input:\\n\", x)\n",
    "print(\"input shape:\", x.shape)\n",
    "\n",
    "# Apply Positional Encoding\n",
    "x_encoded = pos_enc(x)\n",
    "\n",
    "print(\"\\nPositional Encoded Input:\\n\", x_encoded)\n",
    "print(\"output shape\", x_encoded.shape)"
   ]
  }
 ],
 "metadata": {
  "kernelspec": {
   "display_name": "Orientor",
   "language": "python",
   "name": "python3"
  },
  "language_info": {
   "codemirror_mode": {
    "name": "ipython",
    "version": 3
   },
   "file_extension": ".py",
   "mimetype": "text/x-python",
   "name": "python",
   "nbconvert_exporter": "python",
   "pygments_lexer": "ipython3",
   "version": "3.10.13"
  }
 },
 "nbformat": 4,
 "nbformat_minor": 2
}
