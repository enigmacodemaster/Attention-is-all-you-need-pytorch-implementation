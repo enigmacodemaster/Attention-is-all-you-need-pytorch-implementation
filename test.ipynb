{
 "cells": [
  {
   "cell_type": "code",
   "execution_count": 8,
   "metadata": {},
   "outputs": [
    {
     "name": "stdout",
     "output_type": "stream",
     "text": [
      "Original Input:\n",
      " tensor([[[0.3850, 0.5385, 0.9373, 0.9378, 0.4698, 0.5875, 0.2967, 0.9103],\n",
      "         [0.2427, 0.0146, 0.1008, 0.7644, 0.5750, 0.4641, 0.2080, 0.3063],\n",
      "         [0.5608, 0.6441, 0.6097, 0.7116, 0.2767, 0.1115, 0.8490, 0.5207],\n",
      "         [0.0299, 0.7309, 0.8054, 0.1917, 0.0828, 0.1358, 0.8224, 0.0253],\n",
      "         [0.8246, 0.2751, 0.3948, 0.2837, 0.4042, 0.0490, 0.5056, 0.6815]]])\n",
      "input shape: torch.Size([1, 5, 8])\n",
      "\n",
      "Positional Encoded Input:\n",
      " tensor([[[ 0.3850,  1.5385,  0.9373,  1.9378,  0.4698,  1.5875,  0.2967,\n",
      "           1.9103],\n",
      "         [ 1.0842,  0.5549,  0.2006,  1.7595,  0.5850,  1.4640,  0.2090,\n",
      "           1.3063],\n",
      "         [ 1.4701,  0.2279,  0.8084,  1.6916,  0.2967,  1.1113,  0.8510,\n",
      "           1.5207],\n",
      "         [ 0.1710, -0.2591,  1.1009,  1.1470,  0.1128,  1.1353,  0.8254,\n",
      "           1.0253],\n",
      "         [ 0.0678, -0.3786,  0.7842,  1.2048,  0.4441,  1.0482,  0.5096,\n",
      "           1.6815]]])\n",
      "output shape torch.Size([1, 5, 8])\n"
     ]
    }
   ],
   "source": [
    "import torch\n",
    "import torch.nn as nn\n",
    "\n",
    "class PositionalEncoding(nn.Module):\n",
    "    def __init__(self, d_model, max_len=200, device='cpu'):\n",
    "        super(PositionalEncoding, self).__init__()\n",
    "        self.pos_table = self._get_sinusoid_encoding_table(max_len, d_model, device)\n",
    "\n",
    "    def _get_sinusoid_encoding_table(self, max_seq_len, d_hid, device):\n",
    "        position = torch.arange(0, max_seq_len, device=device).float().unsqueeze(1)\n",
    "        div_term = torch.exp(torch.arange(0, d_hid, 2, device=device).float() * -(torch.log(torch.tensor(10000.0)) / d_hid))\n",
    "        \n",
    "        sinusoid_table = torch.zeros(max_seq_len, d_hid, device=device)\n",
    "        sinusoid_table[:, 0::2] = torch.sin(position * div_term)\n",
    "        sinusoid_table[:, 1::2] = torch.cos(position * div_term)\n",
    "\n",
    "        return sinusoid_table.unsqueeze(0)\n",
    "\n",
    "    def forward(self, x):\n",
    "        return x + self.pos_table[:, :x.size(1)].clone().detach()\n",
    "\n",
    "# Initialize Positional Encoding\n",
    "d_model = 8\n",
    "max_len = 10\n",
    "pos_enc = PositionalEncoding(d_model, max_len)\n",
    "\n",
    "# Generate example data\n",
    "batch_size = 1\n",
    "seq_len = 5\n",
    "x = torch.rand(batch_size, seq_len, d_model)\n",
    "\n",
    "print(\"Original Input:\\n\", x)\n",
    "print(\"input shape:\", x.shape)\n",
    "\n",
    "# Apply Positional Encoding\n",
    "x_encoded = pos_enc(x)\n",
    "\n",
    "print(\"\\nPositional Encoded Input:\\n\", x_encoded)\n",
    "print(\"output shape\", x_encoded.shape)"
   ]
  },
  {
   "cell_type": "code",
   "execution_count": 29,
   "metadata": {},
   "outputs": [
    {
     "name": "stdout",
     "output_type": "stream",
     "text": [
      "First 10 xy_pre: [['149.8', '152.5'], ['149.6', '152.0'], ['143.7', '152.1'], ['140.4', '152.1'], ['139.2', '152.1'], ['140.8', '152.0'], ['138.4', '151.8'], ['127.2', '151.9'], ['123.9', '151.9'], ['132.9', '152.2'], ['122.8', '152.6'], ['117.5', '152.3'], ['117.0', '151.9'], ['101.4', '153.1'], ['117.7', '153.1'], ['100.5', '151.9'], ['97.4', '152.2'], ['94.8', '152.2'], ['91.3', '152.3'], ['93.1', '151.8']]\n",
      "First 10 yaw_pre: ['86.3', '90.6', '90.3', '90.1', '90.5', '89.8', '89.7', '92.2', '90.3', '90.8', '90.3', '89.9', '90.8', '90.9', '89.5', '90.5', '90.4', '90.4', '90.2', '90.3']\n"
     ]
    }
   ],
   "source": [
    "import json\n",
    "import numpy as np\n",
    "import matplotlib.pyplot as plt \n",
    "loc_data_path = \"/home/lixiang/e2eloc_data/data.json\"\n",
    "\n",
    "pre_errors_xy = []\n",
    "pre_errors_yaw = []\n",
    "\n",
    "errors_yaw = []\n",
    "\n",
    "xy_gt = []\n",
    "xy_pre = []\n",
    "yaw_gt = []\n",
    "yaw_pre = []\n",
    "\n",
    "assert(loc_data_path is not None)\n",
    "\n",
    "with open(loc_data_path, \"r\") as f:\n",
    "    data = [json.loads(line) for line in f]\n",
    "    xy_gt = data[0][\"xy_gt\"]\n",
    "    xy_pre = data[0][\"xy_pre\"]\n",
    "    yaw_gt = data[0][\"yaw_gt\"]\n",
    "    yaw_pre = data[0][\"yaw_pre\"]\n",
    "    assert len(xy_gt) == len(xy_pre)\n",
    "    assert len(yaw_gt) == len(yaw_pre)\n",
    "    for gt, pre in zip(xy_gt, xy_pre):\n",
    "        error = np.linalg.norm(np.array(gt) - np.array(pre))\n",
    "        pre_errors_xy.append(error)\n",
    "    formatted_xy_pre = [[f\"{x:.1f}\", f\"{y:.1f}\"] for x, y in xy_pre[:20]]\n",
    "    formatted_yaw_pre = [f\"{yaw:.1f}\" for yaw in yaw_pre[:20]]\n",
    "    print(\"First 10 xy_pre:\", formatted_xy_pre)\n",
    "    print(\"First 10 yaw_pre:\", formatted_yaw_pre)\n",
    "    "
   ]
  },
  {
   "cell_type": "code",
   "execution_count": 174,
   "metadata": {},
   "outputs": [],
   "source": [
    "def plot_error_xy_hist(errors, save_pic_path=None):\n",
    "\tplt.figure(figsize=(8, 6))\n",
    "\tplt.hist(errors, bins=100, color=\"blue\", alpha=0.3)\n",
    "\tplt.xlabel(\"Error\")\n",
    "\tplt.ylabel(\"Frequency\")\n",
    "\tplt.title(\"Error Distribution\")\n",
    "\tif save_pic_path:\n",
    "\t\tplt.savefig(\"./\" + save_pic_path + \".png\")\n",
    "\t\tprint(f\"图像已保存为 {save_pic_path}\")\n",
    "\telse:\n",
    "\t\tplt.show()"
   ]
  },
  {
   "cell_type": "code",
   "execution_count": 163,
   "metadata": {},
   "outputs": [],
   "source": [
    "class KalmanFilter:\n",
    "    def __init__(self, process_noise=1.0, measurement_noise=1.0, estimation_error=1.0, initial_state=None):\n",
    "        # 状态向量包括 [x, y, theta, v_x, v_y, v_theta]\n",
    "        self.A = np.eye(6)\n",
    "        self.H = np.eye(3, 6)  # 观测矩阵\n",
    "        self.Q = np.eye(6) * process_noise\n",
    "        self.R = np.eye(3) * measurement_noise\n",
    "        self.P = np.eye(6) * estimation_error\n",
    "        \n",
    "        if initial_state is not None:\n",
    "            self.x = np.hstack((initial_state, np.zeros(3))) \n",
    "        else:\n",
    "            self.x = np.zeros(6)\n",
    "\n",
    "    def predict(self, delta_time=0.0):\n",
    "        self.A[0, 3] = delta_time\n",
    "        self.A[1, 4] = delta_time\n",
    "        self.A[2, 5] = delta_time\n",
    "        \n",
    "        self.x = np.dot(self.A, self.x)\n",
    "        self.P = np.dot(self.A, np.dot(self.P, self.A.T)) + self.Q\n",
    "\n",
    "    def update(self, z):\n",
    "        y = z - np.dot(self.H, self.x)\n",
    "        S = np.dot(self.H, np.dot(self.P, self.H.T)) + self.R\n",
    "        K = np.dot(self.P, np.dot(self.H.T, np.linalg.inv(S)))\n",
    "\n",
    "        self.x = self.x + np.dot(K, y)\n",
    "        self.P = self.P - np.dot(K, np.dot(self.H, self.P))\n",
    "\n",
    "    def get_state(self):\n",
    "        return self.x\n",
    "\n",
    "    def set_velocity(self, velocity):\n",
    "        self.x[3:] = velocity  # 更新速度部分"
   ]
  },
  {
   "cell_type": "code",
   "execution_count": 176,
   "metadata": {},
   "outputs": [],
   "source": [
    "class PoseOptimizer:\n",
    "    def __init__(self, window_size=20, threshold_factor=1, distance_thr=10, inital_state=None):\n",
    "        self.window_size = window_size\n",
    "        self.history = []\n",
    "        self.timestamps = []\n",
    "        self.threshold_factor = threshold_factor\n",
    "        self.distance_thr = distance_thr\n",
    "        self.cnt = 0\n",
    "        self.kalman = KalmanFilter(initial_state=inital_state)\n",
    "\n",
    "    # 添加历史位姿\n",
    "    def add_pose(self, pose, timestamp=None):\n",
    "        self.history.append(pose)\n",
    "        if timestamp is not None:\n",
    "            self.timestamps.append(timestamp)\n",
    "        \n",
    "        if len(self.history) > self.window_size:\n",
    "            self.history.pop(0)\n",
    "            if timestamp is not None:\n",
    "                self.timestamps.pop(0)\n",
    "\n",
    "    # def calculate_statistics(self):\n",
    "    #     deltas = np.diff(np.array(self.history), axis=0)\n",
    "    #     # print(\"deltas\",deltas)\n",
    "    #     delta_positions = deltas[:, :2]\n",
    "    #     delta_yaws = deltas[:, 2]\n",
    "\n",
    "    #     mean_delta_position = np.mean(delta_positions, axis=0)\n",
    "    #     std_delta_position = np.std(delta_positions, axis=0)\n",
    "\n",
    "    #     mean_delta_yaw = np.mean(delta_yaws)\n",
    "    #     std_delta_yaw = np.std(delta_yaws)\n",
    "\n",
    "    #     return mean_delta_position, std_delta_position, mean_delta_yaw, std_delta_yaw\n",
    "    \n",
    "    def calculate_velocity(self):\n",
    "        if len(self.timestamps) < 2:\n",
    "            return np.zeros(3)\n",
    "        \n",
    "        velocities = []\n",
    "        for i in range(1, len(self.timestamps)):\n",
    "            delta_time = self.timestamps[i] - self.timestamps[i - 1]\n",
    "            if delta_time > 0:\n",
    "                delta_position = np.array(self.history[i][:]) - np.array(self.history[i - 1][:])\n",
    "                velocity = delta_position / delta_time\n",
    "                velocities.append(velocity)\n",
    "\n",
    "        mean_velocity = np.mean(velocities, axis=0)\n",
    "        return mean_velocity\n",
    "     \n",
    "\n",
    "    def optimize_pose(self, current_pose, odometry_pose, current_timestamp=None):\n",
    "        if len(self.history) < 2:\n",
    "            return current_pose\n",
    "        # mean_delta_position, std_delta_position, mean_delta_yaw, std_delta_yaw = self.calculate_statistics()\n",
    "        mean_velocity = self.calculate_velocity()\n",
    "        self.kalman.set_velocity(mean_velocity)  # 更新速度\n",
    "        \n",
    "        last_pose = np.array(self.history[-1])\n",
    "\n",
    "        # delta_position = current_delta[:2]\n",
    "        # delta_yaw = current_delta[2]\n",
    "        \n",
    "        # cur_dis = np.linalg.norm(delta_position)\n",
    "\n",
    "        # 检查变化量是否在标准差阈值内\n",
    "        # position_within_threshold = np.all(np.abs(delta_position - mean_delta_position) <= self.threshold_factor * std_delta_position)\n",
    "        # yaw_within_threshold = np.abs(delta_yaw - mean_delta_yaw) <= self.threshold_factor * std_delta_yaw\n",
    "\n",
    "        # if position_within_threshold or yaw_within_threshold or cur_dis < self.distance_thr:\n",
    "        #     return current_pose\n",
    "        \n",
    "        delta_time = 1.0\n",
    "        if current_timestamp is not None and self.timestamps:\n",
    "            delta_time = current_timestamp - self.timestamps[-1] # 时间更新\n",
    "        \n",
    "        self.kalman.predict(delta_time=delta_time)\n",
    "        self.kalman.update(np.array(odometry_pose))\n",
    "        optimized_state = self.kalman.get_state()\n",
    "        \n",
    "        optimized_pose = [optimized_state[0], optimized_state[1], optimized_state[2]]\n",
    "        current_delta = np.array(optimized_pose) - last_pose\n",
    "        cur_dis = np.linalg.norm(current_delta)\n",
    "        \n",
    "        if (cur_dis > 10):\n",
    "            print(\"distance over 10meters\", cur_dis)\n",
    "            return current_pose\n",
    "        # delta_position = current_delta[:2]\n",
    "        # cur_dis = np.linalg.norm(delta_position)\n",
    "        return optimized_pose\n",
    "        \n",
    "        # if current_timestamp is not None and self.timestamps:\n",
    "        #     delta_time = current_timestamp - self.timestamps[-1]\n",
    "        #     if delta_time > 0:\n",
    "        #         estimated_position = last_pose[:2] + mean_velocity * delta_time\n",
    "        #         estimated_pose = np.array([estimated_position[0], estimated_position[1], current_pose[2]])\n",
    "        #         self.kalman.update(estimated_pose)\n",
    "            \n",
    "\t\t# self.kalman.update(np.array(current_pose))\n",
    "\n",
    "\n",
    "        # print(\"当前标准差\", std_delta_position)\n",
    "        \n",
    "        # optimized_position = np.array(last_pose[:2]) * 0.2 + np.array(current_pose[:2]) * 0.8\n",
    "        # optimized_yaw = last_pose[2] * 0.2 + current_pose[2] * 0.8\n",
    "\n",
    "        # return current_pose[0], current_pose[1], current_pose[2]\n",
    "\n"
   ]
  },
  {
   "cell_type": "code",
   "execution_count": 177,
   "metadata": {},
   "outputs": [],
   "source": [
    "# 示例使用\n",
    "optimizer = PoseOptimizer(threshold_factor=3)\n",
    "initial_poses = [xy_gt[i] + [yaw_gt[i]] for i in range(5)]\n",
    "# initial_poses\n",
    "for i in range(5):\n",
    "    pose = xy_gt[i] + [yaw_gt[i]]\n",
    "    timestamp = i  # 示例时间戳\n",
    "    optimizer.add_pose(pose, timestamp)"
   ]
  },
  {
   "cell_type": "code",
   "execution_count": 178,
   "metadata": {},
   "outputs": [
    {
     "name": "stdout",
     "output_type": "stream",
     "text": [
      "distance over 10meters 57.88575481352798\n",
      "distance over 10meters 14.456517951776222\n",
      "distance over 10meters 12.822701413885445\n",
      "distance over 10meters 27.29474816280218\n",
      "distance over 10meters 14.378352746347936\n",
      "distance over 10meters 14.781533381671952\n",
      "distance over 10meters 292.4775952321824\n",
      "distance over 10meters 15.578057008689106\n",
      "distance over 10meters 13.24992516666009\n",
      "distance over 10meters 12.79841200713029\n",
      "distance over 10meters 10.89627513804644\n",
      "distance over 10meters 11.092686155485563\n",
      "distance over 10meters 13.679246896595423\n",
      "distance over 10meters 11.438404530514399\n",
      "distance over 10meters 14.57245859029509\n",
      "distance over 10meters 10.477883283858455\n",
      "distance over 10meters 15.491477520706644\n",
      "distance over 10meters 13.91492226287726\n",
      "distance over 10meters 12.398208080854094\n",
      "distance over 10meters 12.427597765342755\n",
      "distance over 10meters 23.456360569422866\n",
      "distance over 10meters 16.308968765552756\n",
      "distance over 10meters 39.54854750266934\n",
      "distance over 10meters 12.918965306378244\n",
      "distance over 10meters 20.241583786646366\n",
      "distance over 10meters 11.580944131946806\n",
      "distance over 10meters 13.151966176388761\n",
      "distance over 10meters 15.587208330550338\n",
      "distance over 10meters 20.82508295617842\n",
      "distance over 10meters 16.399349628403066\n",
      "distance over 10meters 13.05976798816976\n",
      "distance over 10meters 293.71540665141606\n",
      "distance over 10meters 17.106580871286933\n",
      "distance over 10meters 18.861131205070485\n",
      "distance over 10meters 18.423426382196915\n",
      "distance over 10meters 16.292673516642523\n",
      "distance over 10meters 16.66285790730937\n",
      "distance over 10meters 14.102044929617511\n",
      "distance over 10meters 10.585510799777841\n",
      "distance over 10meters 360.6541255691899\n",
      "distance over 10meters 292.69437027343577\n",
      "distance over 10meters 10.211258381754746\n",
      "distance over 10meters 357.06330038373187\n",
      "distance over 10meters 17.809634386426705\n",
      "distance over 10meters 17.403628467503726\n",
      "distance over 10meters 10.874369207200969\n",
      "distance over 10meters 13.910423918094798\n",
      "distance over 10meters 11.042974843284222\n",
      "distance over 10meters 14.53014078867896\n",
      "distance over 10meters 289.4043192827144\n",
      "distance over 10meters 11.026014393158492\n",
      "distance over 10meters 292.7846414615115\n",
      "distance over 10meters 341.00816652004016\n",
      "distance over 10meters 10.728691180517758\n",
      "distance over 10meters 15.206806039334326\n",
      "distance over 10meters 12.322144968128272\n",
      "distance over 10meters 10.386477020398818\n",
      "distance over 10meters 15.32294516745645\n",
      "distance over 10meters 26.536287967710553\n",
      "distance over 10meters 11.985777280923166\n"
     ]
    }
   ],
   "source": [
    "smoothed_poses = [pose for pose in initial_poses]\n",
    "for i in range(5, len(xy_gt)):\n",
    "    odometry_noise = np.random.normal(0.01, 0.1, size=2)  # 添加噪声\n",
    "    odometry_pose = [xy_gt[i][0] + odometry_noise[0], xy_gt[i][1] + odometry_noise[1], yaw_gt[i]]\n",
    "    current_pose = xy_pre[i] + [yaw_pre[i]]\n",
    "    current_timestamp = i  # 示例时间戳\n",
    "    optimized_pose = optimizer.optimize_pose(current_pose, odometry_pose, current_timestamp)\n",
    "    smoothed_poses.append(optimized_pose)\n",
    "    optimizer.add_pose(optimized_pose, current_timestamp)"
   ]
  },
  {
   "cell_type": "code",
   "execution_count": 179,
   "metadata": {},
   "outputs": [
    {
     "name": "stdout",
     "output_type": "stream",
     "text": [
      "Smoothed Poses: 240\n"
     ]
    },
    {
     "data": {
      "text/plain": [
       "True"
      ]
     },
     "execution_count": 179,
     "metadata": {},
     "output_type": "execute_result"
    }
   ],
   "source": [
    "print(\"Smoothed Poses:\" , len(smoothed_poses))\n",
    "# for pose in smoothed_poses:\n",
    "#     print(f\"x: {pose[0]:.1f}, y: {pose[1]:.1f}, yaw: {pose[2]:.1f}\")\n",
    "    \n",
    "len(xy_pre) == len(smoothed_poses)"
   ]
  },
  {
   "cell_type": "code",
   "execution_count": 180,
   "metadata": {},
   "outputs": [],
   "source": [
    "smoothed_xy = [[pose[0], pose[1]] for pose in smoothed_poses]\n",
    "errors_xy = []\n",
    "for gt, pre_smoothed in zip(xy_gt, smoothed_xy):\n",
    "\terror = np.linalg.norm(np.array(gt) - np.array(pre_smoothed))\n",
    "\terrors_xy.append(error)\n"
   ]
  },
  {
   "cell_type": "code",
   "execution_count": 181,
   "metadata": {},
   "outputs": [
    {
     "name": "stdout",
     "output_type": "stream",
     "text": [
      "图像已保存为 error_distribution_filted\n"
     ]
    },
    {
     "data": {
      "image/png": "[encoded data removed]",
      "text/plain": [
       "<Figure size 800x600 with 1 Axes>"
      ]
     },
     "metadata": {},
     "output_type": "display_data"
    }
   ],
   "source": [
    "plot_error_xy_hist(errors_xy, \"error_distribution_filted\")"
   ]
  },
  {
   "cell_type": "code",
   "execution_count": 183,
   "metadata": {},
   "outputs": [
    {
     "name": "stdout",
     "output_type": "stream",
     "text": [
      "图像已保存为 error_distribution_original\n"
     ]
    },
    {
     "data": {
      "image/png": "[encoded data removed]",
      "text/plain": [
       "<Figure size 800x600 with 1 Axes>"
      ]
     },
     "metadata": {},
     "output_type": "display_data"
    }
   ],
   "source": [
    "plot_error_xy_hist(pre_errors_xy, \"error_distribution_original\")"
   ]
  }
 ],
 "metadata": {
  "kernelspec": {
   "display_name": "Orientor",
   "language": "python",
   "name": "python3"
  },
  "language_info": {
   "codemirror_mode": {
    "name": "ipython",
    "version": 3
   },
   "file_extension": ".py",
   "mimetype": "text/x-python",
   "name": "python",
   "nbconvert_exporter": "python",
   "pygments_lexer": "ipython3",
   "version": "3.10.13"
  }
 },
 "nbformat": 4,
 "nbformat_minor": 2
}
